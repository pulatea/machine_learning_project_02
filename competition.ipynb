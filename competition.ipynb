{
 "cells": [
  {
   "cell_type": "markdown",
   "id": "ea2f8714-a25d-4393-95df-5a6f896b346e",
   "metadata": {},
   "source": [
    "# Competition"
   ]
  },
  {
   "cell_type": "markdown",
   "id": "bf8a3894-2de0-4cab-9fa5-3bb8d2793026",
   "metadata": {},
   "source": [
    "# Task Overview\n",
    "You are given a dataset of top news (of a day) and want to predict the movement (1 for up and 0 for down) of the market value.\n",
    "\n",
    "Download the data from [competition page](https://www.kaggle.com/t/664260fab9b04f699426b48a29ff7d05). This is also where you will upload your submissions."
   ]
  },
  {
   "cell_type": "markdown",
   "id": "28d396cc-65e7-48a9-92d9-1a231e244d8d",
   "metadata": {},
   "source": [
    "You need to improve the accuracy of the model as much as you can.\n",
    "\n",
    "## Rules:\n",
    "1. Do not use any external data **NOR** models pre-trained on other datasets\n",
    "2. Use the test set **ONLY** to get predictions for your model. For example, do not use it to compute statistics or features (e.g. learning preprocessing).\n",
    "3. Do not use deep learning models for a fair competition\n",
    "4. Don't cheat :)\n",
    "\n",
    "## Hints\n",
    "Here are several techniques that you can use:\n",
    "\n",
    "1. **Tune your hyper-parameters** Try `GridSerachCV` function from `sklearn.model_selection` to find the best set of hyperparameters.\n",
    "2. **Feature engineering** Play with the representation of the textual data. We only tried one, but there are more (e.g. TF-IDF Vectorizer is another powerful method to transform text to a vector, taking into account the rareness of the words across the texts). Also do not hesitate to play with the arguments of the *Vectorizers*. \n",
    "3. **Change your model** You are not restricted to train `LogisticRegression` only. You can use whatever algorithm you're already familiar with. Moreover, you can use the algorithms that you get to know during these 3 weeks of solving this assignment. E.g. give *RandomForests* a try!\n",
    "4. **Use date** You can also use the date as extra features, think how you can use it and look for some patterns!\n",
    "5. **Combine multiple models** You can train multiple models and use their individual predictions to produce a final, improved prediction."
   ]
  },
  {
   "cell_type": "markdown",
   "id": "342cac2c-8ecf-4d46-a38b-97c93dfbac31",
   "metadata": {},
   "source": [
    "## Scoring rules [16 points + 20 bonus points]\n",
    "You have until **22.11.2023** to submit your tuned solutions.  \n",
    "**You also need to submit the code for your best solution before the deadline.**\n",
    "\n",
    "### **Part of the Assignment grade: [16 points]**\n",
    "You need to beat two thresholds in order to get a full set of points for the assignment:\n",
    "\n",
    "- You get **4 points** if you get at least 55% on the public board (`Super Easy Baseline`).\n",
    "\n",
    "- You get another **12 points** if you beat the **easy baseline** - 58%. (We also added two hard baselines just for a point of reference)\n",
    "\n",
    "### **Bonus points [up to 20 points]**\n",
    "- **Top-5** on the final leaderboard get **20 bonus points**\n",
    "\n",
    "- **Top-10** on the final leaderboard get **15 bonus points**\n",
    "\n",
    "- **Top-15** on the final leaderboard get **10 bonus points**\n",
    "\n",
    "- **Top-25** on the final leaderboard get **5 bonus points**"
   ]
  },
  {
   "cell_type": "code",
   "execution_count": 353,
   "id": "1e25c666-a005-4485-9e72-59cd7cb4ec67",
   "metadata": {
    "ExecuteTime": {
     "end_time": "2023-11-22T10:41:03.996800Z",
     "start_time": "2023-11-22T10:41:03.915574Z"
    }
   },
   "outputs": [],
   "source": [
    "import numpy as np\n",
    "import pandas as pd\n",
    "from sklearn.feature_extraction.text import TfidfVectorizer\n",
    "\n",
    "train = pd.read_csv('train.csv')\n",
    "test = pd.read_csv('test.csv')\n",
    "\n",
    "train['Date'] = pd.to_datetime(train['Date'], utc=True)\n",
    "test['Date'] = pd.to_datetime(test['Date'], utc=True)\n",
    "\n",
    "train['Day'] = train['Date'].dt.day\n",
    "train['DayOfYear'] = train['Date'].dt.dayofyear\n",
    "\n",
    "test['Day'] = test['Date'].dt.day\n",
    "test['DayOfYear'] = test['Date'].dt.dayofyear"
   ]
  },
  {
   "cell_type": "code",
   "execution_count": 354,
   "id": "3d30d21d",
   "metadata": {
    "ExecuteTime": {
     "end_time": "2023-11-22T10:41:04.006408Z",
     "start_time": "2023-11-22T10:41:04.002631Z"
    }
   },
   "outputs": [
    {
     "data": {
      "text/html": [
       "<div>\n",
       "<style scoped>\n",
       "    .dataframe tbody tr th:only-of-type {\n",
       "        vertical-align: middle;\n",
       "    }\n",
       "\n",
       "    .dataframe tbody tr th {\n",
       "        vertical-align: top;\n",
       "    }\n",
       "\n",
       "    .dataframe thead th {\n",
       "        text-align: right;\n",
       "    }\n",
       "</style>\n",
       "<table border=\"1\" class=\"dataframe\">\n",
       "  <thead>\n",
       "    <tr style=\"text-align: right;\">\n",
       "      <th></th>\n",
       "      <th>Date</th>\n",
       "      <th>Label</th>\n",
       "      <th>Top1</th>\n",
       "      <th>Top2</th>\n",
       "      <th>Top3</th>\n",
       "      <th>Top4</th>\n",
       "      <th>Top5</th>\n",
       "      <th>Top6</th>\n",
       "      <th>Top7</th>\n",
       "      <th>Top8</th>\n",
       "      <th>...</th>\n",
       "      <th>Top18</th>\n",
       "      <th>Top19</th>\n",
       "      <th>Top20</th>\n",
       "      <th>Top21</th>\n",
       "      <th>Top22</th>\n",
       "      <th>Top23</th>\n",
       "      <th>Top24</th>\n",
       "      <th>Top25</th>\n",
       "      <th>Day</th>\n",
       "      <th>DayOfYear</th>\n",
       "    </tr>\n",
       "  </thead>\n",
       "  <tbody>\n",
       "    <tr>\n",
       "      <th>0</th>\n",
       "      <td>2008-08-08 00:00:00+00:00</td>\n",
       "      <td>0</td>\n",
       "      <td>b\"Georgia 'downs two Russian warplanes' as cou...</td>\n",
       "      <td>b'BREAKING: Musharraf to be impeached.'</td>\n",
       "      <td>b'Russia Today: Columns of troops roll into So...</td>\n",
       "      <td>b'Russian tanks are moving towards the capital...</td>\n",
       "      <td>b\"Afghan children raped with 'impunity,' U.N. ...</td>\n",
       "      <td>b'150 Russian tanks have entered South Ossetia...</td>\n",
       "      <td>b\"Breaking: Georgia invades South Ossetia, Rus...</td>\n",
       "      <td>b\"The 'enemy combatent' trials are nothing but...</td>\n",
       "      <td>...</td>\n",
       "      <td>b'Condoleezza Rice: \"The US would not act to p...</td>\n",
       "      <td>b'This is a busy day:  The European Union has ...</td>\n",
       "      <td>b\"Georgia will withdraw 1,000 soldiers from Ir...</td>\n",
       "      <td>b'Why the Pentagon Thinks Attacking Iran is a ...</td>\n",
       "      <td>b'Caucasus in crisis: Georgia invades South Os...</td>\n",
       "      <td>b'Indian shoe manufactory  - And again in a se...</td>\n",
       "      <td>b'Visitors Suffering from Mental Illnesses Ban...</td>\n",
       "      <td>b\"No Help for Mexico's Kidnapping Surge\"</td>\n",
       "      <td>8</td>\n",
       "      <td>221</td>\n",
       "    </tr>\n",
       "    <tr>\n",
       "      <th>1</th>\n",
       "      <td>2008-08-11 00:00:00+00:00</td>\n",
       "      <td>1</td>\n",
       "      <td>b'Why wont America and Nato help us? If they w...</td>\n",
       "      <td>b'Bush puts foot down on Georgian conflict'</td>\n",
       "      <td>b\"Jewish Georgian minister: Thanks to Israeli ...</td>\n",
       "      <td>b'Georgian army flees in disarray as Russians ...</td>\n",
       "      <td>b\"Olympic opening ceremony fireworks 'faked'\"</td>\n",
       "      <td>b'What were the Mossad with fraudulent New Zea...</td>\n",
       "      <td>b'Russia angered by Israeli military sale to G...</td>\n",
       "      <td>b'An American citizen living in S.Ossetia blam...</td>\n",
       "      <td>...</td>\n",
       "      <td>b'Riots are still going on in Montreal (Canada...</td>\n",
       "      <td>b'China to overtake US as largest manufacturer'</td>\n",
       "      <td>b'War in South Ossetia [PICS]'</td>\n",
       "      <td>b'Israeli Physicians Group Condemns State Tort...</td>\n",
       "      <td>b' Russia has just beaten the United States ov...</td>\n",
       "      <td>b'Perhaps *the* question about the Georgia - R...</td>\n",
       "      <td>b'Russia is so much better at war'</td>\n",
       "      <td>b\"So this is what it's come to: trading sex fo...</td>\n",
       "      <td>11</td>\n",
       "      <td>224</td>\n",
       "    </tr>\n",
       "    <tr>\n",
       "      <th>2</th>\n",
       "      <td>2008-08-12 00:00:00+00:00</td>\n",
       "      <td>0</td>\n",
       "      <td>b'Remember that adorable 9-year-old who sang a...</td>\n",
       "      <td>b\"Russia 'ends Georgia operation'\"</td>\n",
       "      <td>b'\"If we had no sexual harassment we would hav...</td>\n",
       "      <td>b\"Al-Qa'eda is losing support in Iraq because ...</td>\n",
       "      <td>b'Ceasefire in Georgia: Putin Outmaneuvers the...</td>\n",
       "      <td>b'Why Microsoft and Intel tried to kill the XO...</td>\n",
       "      <td>b'Stratfor: The Russo-Georgian War and the Bal...</td>\n",
       "      <td>b\"I'm Trying to Get a Sense of This Whole Geor...</td>\n",
       "      <td>...</td>\n",
       "      <td>b'Gorbachev accuses U.S. of making a \"serious ...</td>\n",
       "      <td>b'Russia, Georgia, and NATO: Cold War Two'</td>\n",
       "      <td>b'Remember that adorable 62-year-old who led y...</td>\n",
       "      <td>b'War in Georgia: The Israeli connection'</td>\n",
       "      <td>b'All signs point to the US encouraging Georgi...</td>\n",
       "      <td>b'Christopher King argues that the US and NATO...</td>\n",
       "      <td>b'America: The New Mexico?'</td>\n",
       "      <td>b\"BBC NEWS | Asia-Pacific | Extinction 'by man...</td>\n",
       "      <td>12</td>\n",
       "      <td>225</td>\n",
       "    </tr>\n",
       "  </tbody>\n",
       "</table>\n",
       "<p>3 rows × 29 columns</p>\n",
       "</div>"
      ],
      "text/plain": [
       "                       Date  Label  \\\n",
       "0 2008-08-08 00:00:00+00:00      0   \n",
       "1 2008-08-11 00:00:00+00:00      1   \n",
       "2 2008-08-12 00:00:00+00:00      0   \n",
       "\n",
       "                                                Top1  \\\n",
       "0  b\"Georgia 'downs two Russian warplanes' as cou...   \n",
       "1  b'Why wont America and Nato help us? If they w...   \n",
       "2  b'Remember that adorable 9-year-old who sang a...   \n",
       "\n",
       "                                          Top2  \\\n",
       "0      b'BREAKING: Musharraf to be impeached.'   \n",
       "1  b'Bush puts foot down on Georgian conflict'   \n",
       "2           b\"Russia 'ends Georgia operation'\"   \n",
       "\n",
       "                                                Top3  \\\n",
       "0  b'Russia Today: Columns of troops roll into So...   \n",
       "1  b\"Jewish Georgian minister: Thanks to Israeli ...   \n",
       "2  b'\"If we had no sexual harassment we would hav...   \n",
       "\n",
       "                                                Top4  \\\n",
       "0  b'Russian tanks are moving towards the capital...   \n",
       "1  b'Georgian army flees in disarray as Russians ...   \n",
       "2  b\"Al-Qa'eda is losing support in Iraq because ...   \n",
       "\n",
       "                                                Top5  \\\n",
       "0  b\"Afghan children raped with 'impunity,' U.N. ...   \n",
       "1      b\"Olympic opening ceremony fireworks 'faked'\"   \n",
       "2  b'Ceasefire in Georgia: Putin Outmaneuvers the...   \n",
       "\n",
       "                                                Top6  \\\n",
       "0  b'150 Russian tanks have entered South Ossetia...   \n",
       "1  b'What were the Mossad with fraudulent New Zea...   \n",
       "2  b'Why Microsoft and Intel tried to kill the XO...   \n",
       "\n",
       "                                                Top7  \\\n",
       "0  b\"Breaking: Georgia invades South Ossetia, Rus...   \n",
       "1  b'Russia angered by Israeli military sale to G...   \n",
       "2  b'Stratfor: The Russo-Georgian War and the Bal...   \n",
       "\n",
       "                                                Top8  ...  \\\n",
       "0  b\"The 'enemy combatent' trials are nothing but...  ...   \n",
       "1  b'An American citizen living in S.Ossetia blam...  ...   \n",
       "2  b\"I'm Trying to Get a Sense of This Whole Geor...  ...   \n",
       "\n",
       "                                               Top18  \\\n",
       "0  b'Condoleezza Rice: \"The US would not act to p...   \n",
       "1  b'Riots are still going on in Montreal (Canada...   \n",
       "2  b'Gorbachev accuses U.S. of making a \"serious ...   \n",
       "\n",
       "                                               Top19  \\\n",
       "0  b'This is a busy day:  The European Union has ...   \n",
       "1    b'China to overtake US as largest manufacturer'   \n",
       "2         b'Russia, Georgia, and NATO: Cold War Two'   \n",
       "\n",
       "                                               Top20  \\\n",
       "0  b\"Georgia will withdraw 1,000 soldiers from Ir...   \n",
       "1                     b'War in South Ossetia [PICS]'   \n",
       "2  b'Remember that adorable 62-year-old who led y...   \n",
       "\n",
       "                                               Top21  \\\n",
       "0  b'Why the Pentagon Thinks Attacking Iran is a ...   \n",
       "1  b'Israeli Physicians Group Condemns State Tort...   \n",
       "2          b'War in Georgia: The Israeli connection'   \n",
       "\n",
       "                                               Top22  \\\n",
       "0  b'Caucasus in crisis: Georgia invades South Os...   \n",
       "1  b' Russia has just beaten the United States ov...   \n",
       "2  b'All signs point to the US encouraging Georgi...   \n",
       "\n",
       "                                               Top23  \\\n",
       "0  b'Indian shoe manufactory  - And again in a se...   \n",
       "1  b'Perhaps *the* question about the Georgia - R...   \n",
       "2  b'Christopher King argues that the US and NATO...   \n",
       "\n",
       "                                               Top24  \\\n",
       "0  b'Visitors Suffering from Mental Illnesses Ban...   \n",
       "1                 b'Russia is so much better at war'   \n",
       "2                        b'America: The New Mexico?'   \n",
       "\n",
       "                                               Top25 Day DayOfYear  \n",
       "0           b\"No Help for Mexico's Kidnapping Surge\"   8       221  \n",
       "1  b\"So this is what it's come to: trading sex fo...  11       224  \n",
       "2  b\"BBC NEWS | Asia-Pacific | Extinction 'by man...  12       225  \n",
       "\n",
       "[3 rows x 29 columns]"
      ]
     },
     "execution_count": 354,
     "metadata": {},
     "output_type": "execute_result"
    }
   ],
   "source": [
    "train.head(3)  # look at the training data"
   ]
  },
  {
   "cell_type": "code",
   "execution_count": 355,
   "id": "594b3c5c",
   "metadata": {
    "ExecuteTime": {
     "end_time": "2023-11-22T10:41:04.012022Z",
     "start_time": "2023-11-22T10:41:04.009598Z"
    }
   },
   "outputs": [
    {
     "data": {
      "text/html": [
       "<div>\n",
       "<style scoped>\n",
       "    .dataframe tbody tr th:only-of-type {\n",
       "        vertical-align: middle;\n",
       "    }\n",
       "\n",
       "    .dataframe tbody tr th {\n",
       "        vertical-align: top;\n",
       "    }\n",
       "\n",
       "    .dataframe thead th {\n",
       "        text-align: right;\n",
       "    }\n",
       "</style>\n",
       "<table border=\"1\" class=\"dataframe\">\n",
       "  <thead>\n",
       "    <tr style=\"text-align: right;\">\n",
       "      <th></th>\n",
       "      <th>ID</th>\n",
       "      <th>Date</th>\n",
       "      <th>Top1</th>\n",
       "      <th>Top2</th>\n",
       "      <th>Top3</th>\n",
       "      <th>Top4</th>\n",
       "      <th>Top5</th>\n",
       "      <th>Top6</th>\n",
       "      <th>Top7</th>\n",
       "      <th>Top8</th>\n",
       "      <th>...</th>\n",
       "      <th>Top18</th>\n",
       "      <th>Top19</th>\n",
       "      <th>Top20</th>\n",
       "      <th>Top21</th>\n",
       "      <th>Top22</th>\n",
       "      <th>Top23</th>\n",
       "      <th>Top24</th>\n",
       "      <th>Top25</th>\n",
       "      <th>Day</th>\n",
       "      <th>DayOfYear</th>\n",
       "    </tr>\n",
       "  </thead>\n",
       "  <tbody>\n",
       "    <tr>\n",
       "      <th>0</th>\n",
       "      <td>0</td>\n",
       "      <td>2015-01-02 00:00:00+00:00</td>\n",
       "      <td>Most cases of cancer are the result of sheer b...</td>\n",
       "      <td>Iran dismissed United States efforts to fight ...</td>\n",
       "      <td>Poll: One in 8 Germans would join anti-Muslim ...</td>\n",
       "      <td>UK royal family's Prince Andrew named in US la...</td>\n",
       "      <td>Some 40 asylum-seekers refused to leave the bu...</td>\n",
       "      <td>Pakistani boat blows self up after India navy ...</td>\n",
       "      <td>Sweden hit by third mosque arson attack in a week</td>\n",
       "      <td>940 cars set alight during French New Year</td>\n",
       "      <td>...</td>\n",
       "      <td>Israeli security center publishes names of 50 ...</td>\n",
       "      <td>The year 2014 was the deadliest year yet in Sy...</td>\n",
       "      <td>A Secret underground complex built by the Nazi...</td>\n",
       "      <td>Restrictions on Web Freedom a Major Global Iss...</td>\n",
       "      <td>Austrian journalist Erich Mchel delivered a pr...</td>\n",
       "      <td>Thousands of Ukraine nationalists march in Kiev</td>\n",
       "      <td>Chinas New Years Resolution: No More Harvestin...</td>\n",
       "      <td>Authorities Pull Plug on Russia's Last Politic...</td>\n",
       "      <td>2</td>\n",
       "      <td>2</td>\n",
       "    </tr>\n",
       "    <tr>\n",
       "      <th>1</th>\n",
       "      <td>1</td>\n",
       "      <td>2015-01-05 00:00:00+00:00</td>\n",
       "      <td>Moscow-&amp;gt;Beijing high speed train will reduc...</td>\n",
       "      <td>Two ancient tombs were discovered in Egypt on ...</td>\n",
       "      <td>China complains to Pyongyang after N Korean so...</td>\n",
       "      <td>Scotland Headed Towards Being Fossil Fuel-Free...</td>\n",
       "      <td>Prime Minister Shinzo Abe said Monday he will ...</td>\n",
       "      <td>Sex slave at centre of Prince Andrew scandal f...</td>\n",
       "      <td>Gay relative of Hamas founder faces deportatio...</td>\n",
       "      <td>The number of female drug addicts in Iran has ...</td>\n",
       "      <td>...</td>\n",
       "      <td>Blackfield Capital Founder Goes Missing: The v...</td>\n",
       "      <td>Rocket stage crashes back to Earth in rural Ch...</td>\n",
       "      <td>2 Dead as Aircraft Bombs Greek Tanker in Libya...</td>\n",
       "      <td>Belgian murderer Frank Van Den Bleeken to die ...</td>\n",
       "      <td>Czech President criticizes Ukrainian PM; says ...</td>\n",
       "      <td>3 Vietnamese jets join search for 16 missing F...</td>\n",
       "      <td>France seeks end to Russia sanctions over Ukraine</td>\n",
       "      <td>China scraps rare earths caps</td>\n",
       "      <td>5</td>\n",
       "      <td>5</td>\n",
       "    </tr>\n",
       "    <tr>\n",
       "      <th>2</th>\n",
       "      <td>2</td>\n",
       "      <td>2015-01-06 00:00:00+00:00</td>\n",
       "      <td>US oil falls below $50 a barrel</td>\n",
       "      <td>Toyota gives away 5,680 fuel cell patents to b...</td>\n",
       "      <td>Young Indian couple who had been granted polic...</td>\n",
       "      <td>A senior figure in Islamic States self-declare...</td>\n",
       "      <td>Fukushima rice passes radiation tests for 1st ...</td>\n",
       "      <td>Nearly all Spanish parties guilty of financial...</td>\n",
       "      <td>King Abdullah to abdicate Saudi Throne</td>\n",
       "      <td>Taliban Commander Caught Networking On LinkedIn</td>\n",
       "      <td>...</td>\n",
       "      <td>SpaceX Falcon 9 launch and recovery has been a...</td>\n",
       "      <td>CNN: Americans charged in botched Gambia coup</td>\n",
       "      <td>Islamic State 'Police' Official Beheaded.</td>\n",
       "      <td>Libya bans Palestinians from country to preven...</td>\n",
       "      <td>A judicial inquiry was opened in France on Mon...</td>\n",
       "      <td>Video has captured the moment a cameraman was ...</td>\n",
       "      <td>Syria has complained to the United Nations tha...</td>\n",
       "      <td>Tests over, India set to make the iris of bigg...</td>\n",
       "      <td>6</td>\n",
       "      <td>6</td>\n",
       "    </tr>\n",
       "  </tbody>\n",
       "</table>\n",
       "<p>3 rows × 29 columns</p>\n",
       "</div>"
      ],
      "text/plain": [
       "   ID                      Date  \\\n",
       "0   0 2015-01-02 00:00:00+00:00   \n",
       "1   1 2015-01-05 00:00:00+00:00   \n",
       "2   2 2015-01-06 00:00:00+00:00   \n",
       "\n",
       "                                                Top1  \\\n",
       "0  Most cases of cancer are the result of sheer b...   \n",
       "1  Moscow-&gt;Beijing high speed train will reduc...   \n",
       "2                    US oil falls below $50 a barrel   \n",
       "\n",
       "                                                Top2  \\\n",
       "0  Iran dismissed United States efforts to fight ...   \n",
       "1  Two ancient tombs were discovered in Egypt on ...   \n",
       "2  Toyota gives away 5,680 fuel cell patents to b...   \n",
       "\n",
       "                                                Top3  \\\n",
       "0  Poll: One in 8 Germans would join anti-Muslim ...   \n",
       "1  China complains to Pyongyang after N Korean so...   \n",
       "2  Young Indian couple who had been granted polic...   \n",
       "\n",
       "                                                Top4  \\\n",
       "0  UK royal family's Prince Andrew named in US la...   \n",
       "1  Scotland Headed Towards Being Fossil Fuel-Free...   \n",
       "2  A senior figure in Islamic States self-declare...   \n",
       "\n",
       "                                                Top5  \\\n",
       "0  Some 40 asylum-seekers refused to leave the bu...   \n",
       "1  Prime Minister Shinzo Abe said Monday he will ...   \n",
       "2  Fukushima rice passes radiation tests for 1st ...   \n",
       "\n",
       "                                                Top6  \\\n",
       "0  Pakistani boat blows self up after India navy ...   \n",
       "1  Sex slave at centre of Prince Andrew scandal f...   \n",
       "2  Nearly all Spanish parties guilty of financial...   \n",
       "\n",
       "                                                Top7  \\\n",
       "0  Sweden hit by third mosque arson attack in a week   \n",
       "1  Gay relative of Hamas founder faces deportatio...   \n",
       "2             King Abdullah to abdicate Saudi Throne   \n",
       "\n",
       "                                                Top8  ...  \\\n",
       "0         940 cars set alight during French New Year  ...   \n",
       "1  The number of female drug addicts in Iran has ...  ...   \n",
       "2    Taliban Commander Caught Networking On LinkedIn  ...   \n",
       "\n",
       "                                               Top18  \\\n",
       "0  Israeli security center publishes names of 50 ...   \n",
       "1  Blackfield Capital Founder Goes Missing: The v...   \n",
       "2  SpaceX Falcon 9 launch and recovery has been a...   \n",
       "\n",
       "                                               Top19  \\\n",
       "0  The year 2014 was the deadliest year yet in Sy...   \n",
       "1  Rocket stage crashes back to Earth in rural Ch...   \n",
       "2      CNN: Americans charged in botched Gambia coup   \n",
       "\n",
       "                                               Top20  \\\n",
       "0  A Secret underground complex built by the Nazi...   \n",
       "1  2 Dead as Aircraft Bombs Greek Tanker in Libya...   \n",
       "2          Islamic State 'Police' Official Beheaded.   \n",
       "\n",
       "                                               Top21  \\\n",
       "0  Restrictions on Web Freedom a Major Global Iss...   \n",
       "1  Belgian murderer Frank Van Den Bleeken to die ...   \n",
       "2  Libya bans Palestinians from country to preven...   \n",
       "\n",
       "                                               Top22  \\\n",
       "0  Austrian journalist Erich Mchel delivered a pr...   \n",
       "1  Czech President criticizes Ukrainian PM; says ...   \n",
       "2  A judicial inquiry was opened in France on Mon...   \n",
       "\n",
       "                                               Top23  \\\n",
       "0    Thousands of Ukraine nationalists march in Kiev   \n",
       "1  3 Vietnamese jets join search for 16 missing F...   \n",
       "2  Video has captured the moment a cameraman was ...   \n",
       "\n",
       "                                               Top24  \\\n",
       "0  Chinas New Years Resolution: No More Harvestin...   \n",
       "1  France seeks end to Russia sanctions over Ukraine   \n",
       "2  Syria has complained to the United Nations tha...   \n",
       "\n",
       "                                               Top25 Day DayOfYear  \n",
       "0  Authorities Pull Plug on Russia's Last Politic...   2         2  \n",
       "1                      China scraps rare earths caps   5         5  \n",
       "2  Tests over, India set to make the iris of bigg...   6         6  \n",
       "\n",
       "[3 rows x 29 columns]"
      ]
     },
     "execution_count": 355,
     "metadata": {},
     "output_type": "execute_result"
    }
   ],
   "source": [
    "test.head(3)  # and the test"
   ]
  },
  {
   "cell_type": "code",
   "execution_count": 356,
   "id": "a032107c",
   "metadata": {
    "ExecuteTime": {
     "end_time": "2023-11-22T10:41:04.115490Z",
     "start_time": "2023-11-22T10:41:04.079698Z"
    }
   },
   "outputs": [],
   "source": [
    "# naively concatenating all the news\n",
    "X_train = [' '.join(str(x) for x in train.iloc[row,2:27]) + f' {train.iloc[row, 27]} {train.iloc[row, 28]}'\n",
    "           for row in range(len(train.index))]\n",
    "X_test = [' '.join(str(x) for x in test.iloc[row,2:27]) + f' {test.iloc[row, 27]} {test.iloc[row, 28]}'\n",
    "          for row in range(len(test.index))]"
   ]
  },
  {
   "cell_type": "markdown",
   "id": "c1b4c551",
   "metadata": {
    "ExecuteTime": {
     "end_time": "2023-11-20T10:25:20.446018Z",
     "start_time": "2023-11-20T10:25:19.388275Z"
    }
   },
   "source": [
    "creating a local validation set (since we don't know the test labels and we have limited (per day) submissions to kaggle)"
   ]
  },
  {
   "cell_type": "code",
   "execution_count": 357,
   "id": "63c76531",
   "metadata": {
    "ExecuteTime": {
     "end_time": "2023-11-22T10:41:04.119921Z",
     "start_time": "2023-11-22T10:41:04.118222Z"
    }
   },
   "outputs": [],
   "source": [
    "from sklearn.model_selection import train_test_split\n",
    "\n",
    "X_train, X_val, y_train, y_val = train_test_split(X_train, train.Label, test_size=0.2, random_state=42)"
   ]
  },
  {
   "cell_type": "markdown",
   "id": "a4e8fb48",
   "metadata": {
    "ExecuteTime": {
     "end_time": "2023-11-20T10:25:20.446412Z",
     "start_time": "2023-11-20T10:25:19.390998Z"
    }
   },
   "source": [
    "One needs to transform the data to the format that can be used with the known classifiers.\n",
    "\n",
    "We need to represent each text as a classifier-friendly representation, for example: bag of words.\n",
    "\n",
    "Using *CountVectorizer* from *sklearn.feature_extraction.text* we can transform the *news* to a data matrix *X* of shape [num_days, vocabulary_size], where each row represents a single text and each column indicates the number of occurences of a specific word across the dataset.\n",
    "Notice that the Vectorizer has a lot of useful arguments. These could potentially influence the performance of the models."
   ]
  },
  {
   "cell_type": "code",
   "execution_count": 358,
   "id": "361bbdb3",
   "metadata": {
    "ExecuteTime": {
     "end_time": "2023-11-22T10:41:04.627686Z",
     "start_time": "2023-11-22T10:41:04.144898Z"
    }
   },
   "outputs": [],
   "source": [
    "# skip common unimportant words in English\n",
    "# convert all characters to lowercase before vectorizing\n",
    "# use unigrams and bigrams ngram_range=(1, 2)\n",
    "# ignore words with frequency lower than min_df\n",
    "\n",
    "vectorizer = TfidfVectorizer(analyzer='word', lowercase=True, ngram_range=(2, 2), min_df=2)\n",
    "\n",
    "X_train = vectorizer.fit_transform(X_train)\n",
    "X_val = vectorizer.transform(X_val)"
   ]
  },
  {
   "cell_type": "code",
   "execution_count": 359,
   "id": "eec768c4",
   "metadata": {
    "ExecuteTime": {
     "end_time": "2023-11-22T10:41:05.120962Z",
     "start_time": "2023-11-22T10:41:04.628838Z"
    }
   },
   "outputs": [],
   "source": [
    "from sklearn.ensemble import RandomForestClassifier\n",
    "from sklearn.metrics import confusion_matrix\n",
    "\n",
    "model = RandomForestClassifier(criterion='gini', n_estimators=50, min_samples_split=2, random_state=42)\n",
    "model.fit(X_train, y_train)\n",
    "\n",
    "preds = model.predict(vectorizer.transform(X_test))"
   ]
  },
  {
   "cell_type": "markdown",
   "id": "b71b9877",
   "metadata": {
    "ExecuteTime": {
     "start_time": "2023-11-20T10:25:20.157650Z"
    }
   },
   "source": [
    "just to have a sense about our simple classifier, we will evaluate it on validation set."
   ]
  },
  {
   "cell_type": "code",
   "execution_count": 360,
   "id": "842ed0c3",
   "metadata": {
    "ExecuteTime": {
     "end_time": "2023-11-22T10:41:05.131387Z",
     "start_time": "2023-11-22T10:41:05.120916Z"
    }
   },
   "outputs": [
    {
     "name": "stdout",
     "output_type": "stream",
     "text": [
      "53.86996904024768\n"
     ]
    }
   ],
   "source": [
    "print((model.predict(X_val) == y_val).mean() * 100.0)"
   ]
  },
  {
   "cell_type": "code",
   "execution_count": 361,
   "id": "70f59d9a",
   "metadata": {
    "ExecuteTime": {
     "end_time": "2023-11-22T10:41:05.135470Z",
     "start_time": "2023-11-22T10:41:05.132285Z"
    }
   },
   "outputs": [],
   "source": [
    "# creating a submission file for kaggle\n",
    "pd.DataFrame({'ID': np.arange(len(preds)), 'Label': preds}).to_csv('submission_1gram.csv', index=False)"
   ]
  }
 ],
 "metadata": {
  "kernelspec": {
   "display_name": "Python 3 (ipykernel)",
   "language": "python",
   "name": "python3"
  },
  "language_info": {
   "codemirror_mode": {
    "name": "ipython",
    "version": 3
   },
   "file_extension": ".py",
   "mimetype": "text/x-python",
   "name": "python",
   "nbconvert_exporter": "python",
   "pygments_lexer": "ipython3",
   "version": "3.11.4"
  }
 },
 "nbformat": 4,
 "nbformat_minor": 5
}
